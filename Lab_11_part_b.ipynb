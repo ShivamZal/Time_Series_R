{
 "cells": [
  {
   "cell_type": "code",
   "execution_count": 11,
   "id": "f677c43e",
   "metadata": {},
   "outputs": [],
   "source": [
    "#Part-2: Code\n",
    "#- implement AR(p) regression from scratch (i.e. no statsmodels module)\n",
    "#- 1) given An input vector Y and AR order p formulate the following matrices\n",
    "#2) Compute the optimal parameters using OLS ̂ β = (XTX)\n",
    "#- 3) Compute the optimal paramerters numerically by defining a loss function L(w) that compute MSE for a parameterization of the model\n",
    "#- 4) mimizie the loss function using scipy minimize\n",
    "#- 5) compare numerical and OLS predictions with statsmodels predictions for the parameters"
   ]
  },
  {
   "cell_type": "code",
   "execution_count": 12,
   "id": "8473c18e",
   "metadata": {},
   "outputs": [],
   "source": [
    "import numpy as np\n",
    "import matplotlib\n",
    "import matplotlib.pyplot as plt\n",
    "from scipy.optimize import minimize"
   ]
  },
  {
   "cell_type": "code",
   "execution_count": 13,
   "id": "06b48fec",
   "metadata": {},
   "outputs": [
    {
     "name": "stdout",
     "output_type": "stream",
     "text": [
      "------PARTITION INFO---------\n",
      "train_idx shape: (40,)\n",
      "val_idx shape: (10,)\n"
     ]
    }
   ],
   "source": [
    "# GENERATE DATA\n",
    "N=50\n",
    "x=np.linspace(0,5,N).reshape(N,1)\n",
    "y=5.32*x+3.4+np.random.uniform(0.0,2,N).reshape(N,1)\n",
    "NFIT=2#NUMBER OF FITTING PARAMETER\n",
    "#SPLIT DATA\n",
    "f_train=0.8;f_val=0.2;\n",
    "stop=int(0.8*N)\n",
    "rand_indices=np.random.permutation(y.shape[0])\n",
    "CUT1=int(f_train*x.shape[0]);\n",
    "train_idx,val_idx=rand_indices[:CUT1],rand_indices[CUT1:]\n",
    "print('------PARTITION INFO---------')\n",
    "print(\"train_idx shape:\",train_idx.shape)\n",
    "print(\"val_idx shape:\",val_idx.shape)\n"
   ]
  },
  {
   "cell_type": "code",
   "execution_count": 14,
   "id": "c1624676",
   "metadata": {},
   "outputs": [
    {
     "name": "stdout",
     "output_type": "stream",
     "text": [
      "(40, 2) (40, 1)\n"
     ]
    }
   ],
   "source": [
    "#DEFINE ARRAYS\n",
    "X=x[train_idx];Y=y[train_idx]\n",
    "x2=x[val_idx];y2=y[val_idx]\n",
    "#ADD ONES TO X ARRAY FOR BIAS TERM\n",
    "n=X.shape[0]\n",
    "ones=np.ones((n,1))\n",
    "X=np.concatenate((ones,X),axis=1)\n",
    "print(X.shape,Y.shape)\n"
   ]
  },
  {
   "cell_type": "code",
   "execution_count": 15,
   "id": "06501942",
   "metadata": {},
   "outputs": [
    {
     "name": "stdout",
     "output_type": "stream",
     "text": [
      "ANALYTICAL SOLUTION:\n",
      "[[4.36269969]\n",
      " [5.31742018]]\n"
     ]
    }
   ],
   "source": [
    "#ANALYTIC SOLUTION\n",
    "tmp=np.matmul(np.transpose(X),X)\n",
    "tmp=np.matmul(np.linalg.inv(tmp),np.transpose(X))\n",
    "param=np.matmul(tmp,Y)\n",
    "print(\"ANALYTICAL SOLUTION:\")\n",
    "print(param)\n"
   ]
  },
  {
   "cell_type": "code",
   "execution_count": 17,
   "id": "7d20150c",
   "metadata": {},
   "outputs": [],
   "source": [
    "#MODEL\n",
    "def M(w):\n",
    "    return np.matmul(X,w)\n",
    "\n",
    "\n"
   ]
  },
  {
   "cell_type": "code",
   "execution_count": 19,
   "id": "9762ecf3",
   "metadata": {},
   "outputs": [],
   "source": [
    "#LOSS\n",
    "def loss(w):\n",
    "    ypred=M(w)\n",
    "    ypred=ypred.reshape(ypred.shape[0],1)\n",
    "    #print(ypred.shape); exit()\n",
    "    return np.mean((ypred-Y)**2.0)"
   ]
  },
  {
   "cell_type": "code",
   "execution_count": 22,
   "id": "1a4b51ef",
   "metadata": {},
   "outputs": [
    {
     "name": "stdout",
     "output_type": "stream",
     "text": [
      "[[4.46117   ]\n",
      " [4.96317832]]\n"
     ]
    }
   ],
   "source": [
    "#INITIAL GUESS\n",
    "wo=np.random.uniform(0.0,5,NFIT).reshape(NFIT,1)\n",
    "print(wo)\n"
   ]
  },
  {
   "cell_type": "code",
   "execution_count": 23,
   "id": "998eb84c",
   "metadata": {},
   "outputs": [
    {
     "name": "stdout",
     "output_type": "stream",
     "text": [
      "NUMERICAL SOLUTION: [4.36269969 5.31742017]\n"
     ]
    }
   ],
   "source": [
    "#OPTIMIZE\n",
    "res=minimize(loss,wo,method='BFGS',tol=1e-5)\n",
    "popt=res.x\n",
    "print(\"NUMERICAL SOLUTION:\",popt)\n"
   ]
  },
  {
   "cell_type": "code",
   "execution_count": 24,
   "id": "8855c2d1",
   "metadata": {},
   "outputs": [
    {
     "data": {
      "text/plain": [
       "[<matplotlib.lines.Line2D at 0x215ac63e280>,\n",
       " <matplotlib.lines.Line2D at 0x215ac63e340>]"
      ]
     },
     "execution_count": 24,
     "metadata": {},
     "output_type": "execute_result"
    },
    {
     "data": {
      "image/png": "[encoded data removed]",
      "text/plain": [
       "<Figure size 432x288 with 1 Axes>"
      ]
     },
     "metadata": {
      "needs_background": "light"
     },
     "output_type": "display_data"
    }
   ],
   "source": [
    "#PLOT\n",
    "plt.plot(X[:,1],Y,'o')\n",
    "plt.plot(x2,y2,'o')\n",
    "plt.plot(X)\n"
   ]
  },
  {
   "cell_type": "code",
   "execution_count": null,
   "id": "8f54fa20",
   "metadata": {},
   "outputs": [],
   "source": []
  }
 ],
 "metadata": {
  "kernelspec": {
   "display_name": "Python 3",
   "language": "python",
   "name": "python3"
  },
  "language_info": {
   "codemirror_mode": {
    "name": "ipython",
    "version": 3
   },
   "file_extension": ".py",
   "mimetype": "text/x-python",
   "name": "python",
   "nbconvert_exporter": "python",
   "pygments_lexer": "ipython3",
   "version": "3.8.8"
  }
 },
 "nbformat": 4,
 "nbformat_minor": 5
}
